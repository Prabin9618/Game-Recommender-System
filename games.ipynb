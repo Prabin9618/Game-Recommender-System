{
 "cells": [
  {
   "cell_type": "code",
   "execution_count": 1,
   "metadata": {},
   "outputs": [],
   "source": [
    "import numpy as np\n",
    "import pandas as pd\n",
    "import matplotlib.pyplot as plt\n",
    "%matplotlib inline\n",
    "import seaborn as sns\n",
    "\n",
    "from nltk.corpus import stopwords\n",
    "sw = set(stopwords.words('english'))\n",
    "\n",
    "from nltk.stem import PorterStemmer\n",
    "ps = PorterStemmer()"
   ]
  },
  {
   "cell_type": "code",
   "execution_count": 2,
   "metadata": {},
   "outputs": [],
   "source": [
    "df = pd.read_csv('PC_Games_2021.csv')"
   ]
  },
  {
   "cell_type": "code",
   "execution_count": 3,
   "metadata": {},
   "outputs": [
    {
     "data": {
      "text/html": [
       "<div>\n",
       "<style scoped>\n",
       "    .dataframe tbody tr th:only-of-type {\n",
       "        vertical-align: middle;\n",
       "    }\n",
       "\n",
       "    .dataframe tbody tr th {\n",
       "        vertical-align: top;\n",
       "    }\n",
       "\n",
       "    .dataframe thead th {\n",
       "        text-align: right;\n",
       "    }\n",
       "</style>\n",
       "<table border=\"1\" class=\"dataframe\">\n",
       "  <thead>\n",
       "    <tr style=\"text-align: right;\">\n",
       "      <th></th>\n",
       "      <th>Unnamed: 0</th>\n",
       "      <th>Title</th>\n",
       "      <th>Description</th>\n",
       "      <th>Release Date</th>\n",
       "      <th>Metascore</th>\n",
       "      <th>User Score</th>\n",
       "    </tr>\n",
       "  </thead>\n",
       "  <tbody>\n",
       "    <tr>\n",
       "      <th>0</th>\n",
       "      <td>0</td>\n",
       "      <td>Disco Elysium: The Final Cut</td>\n",
       "      <td>Disco Elysium - The Final Cut is the definitiv...</td>\n",
       "      <td>March 30, 2021</td>\n",
       "      <td>97</td>\n",
       "      <td>8.2</td>\n",
       "    </tr>\n",
       "    <tr>\n",
       "      <th>1</th>\n",
       "      <td>1</td>\n",
       "      <td>Half-Life 2</td>\n",
       "      <td>[Metacritic's 2004 PC Game of the Year]  By ta...</td>\n",
       "      <td>November 16, 2004</td>\n",
       "      <td>96</td>\n",
       "      <td>9.2</td>\n",
       "    </tr>\n",
       "    <tr>\n",
       "      <th>2</th>\n",
       "      <td>2</td>\n",
       "      <td>Grand Theft Auto V</td>\n",
       "      <td>Los Santos: a sprawling sun-soaked metropolis ...</td>\n",
       "      <td>April 13, 2015</td>\n",
       "      <td>96</td>\n",
       "      <td>7.8</td>\n",
       "    </tr>\n",
       "    <tr>\n",
       "      <th>3</th>\n",
       "      <td>3</td>\n",
       "      <td>The Orange Box</td>\n",
       "      <td>Games included in The Orange Box compilation: ...</td>\n",
       "      <td>October 10, 2007</td>\n",
       "      <td>96</td>\n",
       "      <td>9.3</td>\n",
       "    </tr>\n",
       "    <tr>\n",
       "      <th>4</th>\n",
       "      <td>4</td>\n",
       "      <td>Half-Life</td>\n",
       "      <td>Half-Life combines great storytelling in the t...</td>\n",
       "      <td>November 19, 1998</td>\n",
       "      <td>96</td>\n",
       "      <td>9.1</td>\n",
       "    </tr>\n",
       "  </tbody>\n",
       "</table>\n",
       "</div>"
      ],
      "text/plain": [
       "   Unnamed: 0                         Title  \\\n",
       "0           0  Disco Elysium: The Final Cut   \n",
       "1           1                   Half-Life 2   \n",
       "2           2            Grand Theft Auto V   \n",
       "3           3                The Orange Box   \n",
       "4           4                     Half-Life   \n",
       "\n",
       "                                         Description       Release Date  \\\n",
       "0  Disco Elysium - The Final Cut is the definitiv...     March 30, 2021   \n",
       "1  [Metacritic's 2004 PC Game of the Year]  By ta...  November 16, 2004   \n",
       "2  Los Santos: a sprawling sun-soaked metropolis ...     April 13, 2015   \n",
       "3  Games included in The Orange Box compilation: ...   October 10, 2007   \n",
       "4  Half-Life combines great storytelling in the t...  November 19, 1998   \n",
       "\n",
       "   Metascore User Score  \n",
       "0         97        8.2  \n",
       "1         96        9.2  \n",
       "2         96        7.8  \n",
       "3         96        9.3  \n",
       "4         96        9.1  "
      ]
     },
     "execution_count": 3,
     "metadata": {},
     "output_type": "execute_result"
    }
   ],
   "source": [
    "df.head()"
   ]
  },
  {
   "cell_type": "code",
   "execution_count": 4,
   "metadata": {},
   "outputs": [
    {
     "name": "stdout",
     "output_type": "stream",
     "text": [
      "<class 'pandas.core.frame.DataFrame'>\n",
      "RangeIndex: 4500 entries, 0 to 4499\n",
      "Data columns (total 6 columns):\n",
      " #   Column        Non-Null Count  Dtype \n",
      "---  ------        --------------  ----- \n",
      " 0   Unnamed: 0    4500 non-null   int64 \n",
      " 1   Title         4500 non-null   object\n",
      " 2   Description   4468 non-null   object\n",
      " 3   Release Date  4500 non-null   object\n",
      " 4   Metascore     4500 non-null   int64 \n",
      " 5   User Score    4500 non-null   object\n",
      "dtypes: int64(2), object(4)\n",
      "memory usage: 211.1+ KB\n"
     ]
    }
   ],
   "source": [
    "df.info()"
   ]
  },
  {
   "cell_type": "code",
   "execution_count": 5,
   "metadata": {},
   "outputs": [],
   "source": [
    "df.reset_index(inplace=True)"
   ]
  },
  {
   "cell_type": "code",
   "execution_count": 6,
   "metadata": {},
   "outputs": [
    {
     "data": {
      "text/html": [
       "<div>\n",
       "<style scoped>\n",
       "    .dataframe tbody tr th:only-of-type {\n",
       "        vertical-align: middle;\n",
       "    }\n",
       "\n",
       "    .dataframe tbody tr th {\n",
       "        vertical-align: top;\n",
       "    }\n",
       "\n",
       "    .dataframe thead th {\n",
       "        text-align: right;\n",
       "    }\n",
       "</style>\n",
       "<table border=\"1\" class=\"dataframe\">\n",
       "  <thead>\n",
       "    <tr style=\"text-align: right;\">\n",
       "      <th></th>\n",
       "      <th>index</th>\n",
       "      <th>Unnamed: 0</th>\n",
       "      <th>Title</th>\n",
       "      <th>Description</th>\n",
       "      <th>Release Date</th>\n",
       "      <th>Metascore</th>\n",
       "      <th>User Score</th>\n",
       "    </tr>\n",
       "  </thead>\n",
       "  <tbody>\n",
       "    <tr>\n",
       "      <th>0</th>\n",
       "      <td>0</td>\n",
       "      <td>0</td>\n",
       "      <td>Disco Elysium: The Final Cut</td>\n",
       "      <td>Disco Elysium - The Final Cut is the definitiv...</td>\n",
       "      <td>March 30, 2021</td>\n",
       "      <td>97</td>\n",
       "      <td>8.2</td>\n",
       "    </tr>\n",
       "    <tr>\n",
       "      <th>1</th>\n",
       "      <td>1</td>\n",
       "      <td>1</td>\n",
       "      <td>Half-Life 2</td>\n",
       "      <td>[Metacritic's 2004 PC Game of the Year]  By ta...</td>\n",
       "      <td>November 16, 2004</td>\n",
       "      <td>96</td>\n",
       "      <td>9.2</td>\n",
       "    </tr>\n",
       "    <tr>\n",
       "      <th>2</th>\n",
       "      <td>2</td>\n",
       "      <td>2</td>\n",
       "      <td>Grand Theft Auto V</td>\n",
       "      <td>Los Santos: a sprawling sun-soaked metropolis ...</td>\n",
       "      <td>April 13, 2015</td>\n",
       "      <td>96</td>\n",
       "      <td>7.8</td>\n",
       "    </tr>\n",
       "    <tr>\n",
       "      <th>3</th>\n",
       "      <td>3</td>\n",
       "      <td>3</td>\n",
       "      <td>The Orange Box</td>\n",
       "      <td>Games included in The Orange Box compilation: ...</td>\n",
       "      <td>October 10, 2007</td>\n",
       "      <td>96</td>\n",
       "      <td>9.3</td>\n",
       "    </tr>\n",
       "    <tr>\n",
       "      <th>4</th>\n",
       "      <td>4</td>\n",
       "      <td>4</td>\n",
       "      <td>Half-Life</td>\n",
       "      <td>Half-Life combines great storytelling in the t...</td>\n",
       "      <td>November 19, 1998</td>\n",
       "      <td>96</td>\n",
       "      <td>9.1</td>\n",
       "    </tr>\n",
       "  </tbody>\n",
       "</table>\n",
       "</div>"
      ],
      "text/plain": [
       "   index  Unnamed: 0                         Title  \\\n",
       "0      0           0  Disco Elysium: The Final Cut   \n",
       "1      1           1                   Half-Life 2   \n",
       "2      2           2            Grand Theft Auto V   \n",
       "3      3           3                The Orange Box   \n",
       "4      4           4                     Half-Life   \n",
       "\n",
       "                                         Description       Release Date  \\\n",
       "0  Disco Elysium - The Final Cut is the definitiv...     March 30, 2021   \n",
       "1  [Metacritic's 2004 PC Game of the Year]  By ta...  November 16, 2004   \n",
       "2  Los Santos: a sprawling sun-soaked metropolis ...     April 13, 2015   \n",
       "3  Games included in The Orange Box compilation: ...   October 10, 2007   \n",
       "4  Half-Life combines great storytelling in the t...  November 19, 1998   \n",
       "\n",
       "   Metascore User Score  \n",
       "0         97        8.2  \n",
       "1         96        9.2  \n",
       "2         96        7.8  \n",
       "3         96        9.3  \n",
       "4         96        9.1  "
      ]
     },
     "execution_count": 6,
     "metadata": {},
     "output_type": "execute_result"
    }
   ],
   "source": [
    "df.head()"
   ]
  },
  {
   "cell_type": "code",
   "execution_count": 7,
   "metadata": {},
   "outputs": [],
   "source": [
    "df.drop(columns=['index','Unnamed: 0'],inplace=True)"
   ]
  },
  {
   "cell_type": "code",
   "execution_count": 8,
   "metadata": {},
   "outputs": [
    {
     "data": {
      "text/html": [
       "<div>\n",
       "<style scoped>\n",
       "    .dataframe tbody tr th:only-of-type {\n",
       "        vertical-align: middle;\n",
       "    }\n",
       "\n",
       "    .dataframe tbody tr th {\n",
       "        vertical-align: top;\n",
       "    }\n",
       "\n",
       "    .dataframe thead th {\n",
       "        text-align: right;\n",
       "    }\n",
       "</style>\n",
       "<table border=\"1\" class=\"dataframe\">\n",
       "  <thead>\n",
       "    <tr style=\"text-align: right;\">\n",
       "      <th></th>\n",
       "      <th>Title</th>\n",
       "      <th>Description</th>\n",
       "      <th>Release Date</th>\n",
       "      <th>Metascore</th>\n",
       "      <th>User Score</th>\n",
       "    </tr>\n",
       "  </thead>\n",
       "  <tbody>\n",
       "    <tr>\n",
       "      <th>0</th>\n",
       "      <td>Disco Elysium: The Final Cut</td>\n",
       "      <td>Disco Elysium - The Final Cut is the definitiv...</td>\n",
       "      <td>March 30, 2021</td>\n",
       "      <td>97</td>\n",
       "      <td>8.2</td>\n",
       "    </tr>\n",
       "    <tr>\n",
       "      <th>1</th>\n",
       "      <td>Half-Life 2</td>\n",
       "      <td>[Metacritic's 2004 PC Game of the Year]  By ta...</td>\n",
       "      <td>November 16, 2004</td>\n",
       "      <td>96</td>\n",
       "      <td>9.2</td>\n",
       "    </tr>\n",
       "    <tr>\n",
       "      <th>2</th>\n",
       "      <td>Grand Theft Auto V</td>\n",
       "      <td>Los Santos: a sprawling sun-soaked metropolis ...</td>\n",
       "      <td>April 13, 2015</td>\n",
       "      <td>96</td>\n",
       "      <td>7.8</td>\n",
       "    </tr>\n",
       "    <tr>\n",
       "      <th>3</th>\n",
       "      <td>The Orange Box</td>\n",
       "      <td>Games included in The Orange Box compilation: ...</td>\n",
       "      <td>October 10, 2007</td>\n",
       "      <td>96</td>\n",
       "      <td>9.3</td>\n",
       "    </tr>\n",
       "    <tr>\n",
       "      <th>4</th>\n",
       "      <td>Half-Life</td>\n",
       "      <td>Half-Life combines great storytelling in the t...</td>\n",
       "      <td>November 19, 1998</td>\n",
       "      <td>96</td>\n",
       "      <td>9.1</td>\n",
       "    </tr>\n",
       "  </tbody>\n",
       "</table>\n",
       "</div>"
      ],
      "text/plain": [
       "                          Title  \\\n",
       "0  Disco Elysium: The Final Cut   \n",
       "1                   Half-Life 2   \n",
       "2            Grand Theft Auto V   \n",
       "3                The Orange Box   \n",
       "4                     Half-Life   \n",
       "\n",
       "                                         Description       Release Date  \\\n",
       "0  Disco Elysium - The Final Cut is the definitiv...     March 30, 2021   \n",
       "1  [Metacritic's 2004 PC Game of the Year]  By ta...  November 16, 2004   \n",
       "2  Los Santos: a sprawling sun-soaked metropolis ...     April 13, 2015   \n",
       "3  Games included in The Orange Box compilation: ...   October 10, 2007   \n",
       "4  Half-Life combines great storytelling in the t...  November 19, 1998   \n",
       "\n",
       "   Metascore User Score  \n",
       "0         97        8.2  \n",
       "1         96        9.2  \n",
       "2         96        7.8  \n",
       "3         96        9.3  \n",
       "4         96        9.1  "
      ]
     },
     "execution_count": 8,
     "metadata": {},
     "output_type": "execute_result"
    }
   ],
   "source": [
    "df.head()"
   ]
  },
  {
   "cell_type": "code",
   "execution_count": 9,
   "metadata": {},
   "outputs": [],
   "source": [
    "df.dropna(inplace=True)"
   ]
  },
  {
   "cell_type": "code",
   "execution_count": 10,
   "metadata": {},
   "outputs": [
    {
     "name": "stdout",
     "output_type": "stream",
     "text": [
      "<class 'pandas.core.frame.DataFrame'>\n",
      "Int64Index: 4468 entries, 0 to 4499\n",
      "Data columns (total 5 columns):\n",
      " #   Column        Non-Null Count  Dtype \n",
      "---  ------        --------------  ----- \n",
      " 0   Title         4468 non-null   object\n",
      " 1   Description   4468 non-null   object\n",
      " 2   Release Date  4468 non-null   object\n",
      " 3   Metascore     4468 non-null   int64 \n",
      " 4   User Score    4468 non-null   object\n",
      "dtypes: int64(1), object(4)\n",
      "memory usage: 209.4+ KB\n"
     ]
    }
   ],
   "source": [
    "df.info()"
   ]
  },
  {
   "cell_type": "code",
   "execution_count": 11,
   "metadata": {},
   "outputs": [],
   "source": [
    "df.reset_index(inplace=True)"
   ]
  },
  {
   "cell_type": "code",
   "execution_count": 12,
   "metadata": {},
   "outputs": [
    {
     "data": {
      "text/html": [
       "<div>\n",
       "<style scoped>\n",
       "    .dataframe tbody tr th:only-of-type {\n",
       "        vertical-align: middle;\n",
       "    }\n",
       "\n",
       "    .dataframe tbody tr th {\n",
       "        vertical-align: top;\n",
       "    }\n",
       "\n",
       "    .dataframe thead th {\n",
       "        text-align: right;\n",
       "    }\n",
       "</style>\n",
       "<table border=\"1\" class=\"dataframe\">\n",
       "  <thead>\n",
       "    <tr style=\"text-align: right;\">\n",
       "      <th></th>\n",
       "      <th>index</th>\n",
       "      <th>Title</th>\n",
       "      <th>Description</th>\n",
       "      <th>Release Date</th>\n",
       "      <th>Metascore</th>\n",
       "      <th>User Score</th>\n",
       "    </tr>\n",
       "  </thead>\n",
       "  <tbody>\n",
       "    <tr>\n",
       "      <th>0</th>\n",
       "      <td>0</td>\n",
       "      <td>Disco Elysium: The Final Cut</td>\n",
       "      <td>Disco Elysium - The Final Cut is the definitiv...</td>\n",
       "      <td>March 30, 2021</td>\n",
       "      <td>97</td>\n",
       "      <td>8.2</td>\n",
       "    </tr>\n",
       "    <tr>\n",
       "      <th>1</th>\n",
       "      <td>1</td>\n",
       "      <td>Half-Life 2</td>\n",
       "      <td>[Metacritic's 2004 PC Game of the Year]  By ta...</td>\n",
       "      <td>November 16, 2004</td>\n",
       "      <td>96</td>\n",
       "      <td>9.2</td>\n",
       "    </tr>\n",
       "    <tr>\n",
       "      <th>2</th>\n",
       "      <td>2</td>\n",
       "      <td>Grand Theft Auto V</td>\n",
       "      <td>Los Santos: a sprawling sun-soaked metropolis ...</td>\n",
       "      <td>April 13, 2015</td>\n",
       "      <td>96</td>\n",
       "      <td>7.8</td>\n",
       "    </tr>\n",
       "    <tr>\n",
       "      <th>3</th>\n",
       "      <td>3</td>\n",
       "      <td>The Orange Box</td>\n",
       "      <td>Games included in The Orange Box compilation: ...</td>\n",
       "      <td>October 10, 2007</td>\n",
       "      <td>96</td>\n",
       "      <td>9.3</td>\n",
       "    </tr>\n",
       "    <tr>\n",
       "      <th>4</th>\n",
       "      <td>4</td>\n",
       "      <td>Half-Life</td>\n",
       "      <td>Half-Life combines great storytelling in the t...</td>\n",
       "      <td>November 19, 1998</td>\n",
       "      <td>96</td>\n",
       "      <td>9.1</td>\n",
       "    </tr>\n",
       "    <tr>\n",
       "      <th>...</th>\n",
       "      <td>...</td>\n",
       "      <td>...</td>\n",
       "      <td>...</td>\n",
       "      <td>...</td>\n",
       "      <td>...</td>\n",
       "      <td>...</td>\n",
       "    </tr>\n",
       "    <tr>\n",
       "      <th>4463</th>\n",
       "      <td>4495</td>\n",
       "      <td>Rugby 2004</td>\n",
       "      <td>Choose from 20 international, all Super 12, an...</td>\n",
       "      <td>November 4, 2003</td>\n",
       "      <td>55</td>\n",
       "      <td>5.5</td>\n",
       "    </tr>\n",
       "    <tr>\n",
       "      <th>4464</th>\n",
       "      <td>4496</td>\n",
       "      <td>Judge Dredd: Dredd VS Death</td>\n",
       "      <td>It is the third decade of the 22nd century. Un...</td>\n",
       "      <td>March 3, 2005</td>\n",
       "      <td>55</td>\n",
       "      <td>7.1</td>\n",
       "    </tr>\n",
       "    <tr>\n",
       "      <th>4465</th>\n",
       "      <td>4497</td>\n",
       "      <td>Conflict: Vietnam</td>\n",
       "      <td>Conflict: Vietnam follows the progress of four...</td>\n",
       "      <td>October 5, 2004</td>\n",
       "      <td>55</td>\n",
       "      <td>7.1</td>\n",
       "    </tr>\n",
       "    <tr>\n",
       "      <th>4466</th>\n",
       "      <td>4498</td>\n",
       "      <td>Transformers: The Game</td>\n",
       "      <td>Based on the 2007 live-action feature film, Tr...</td>\n",
       "      <td>June 26, 2007</td>\n",
       "      <td>55</td>\n",
       "      <td>5.5</td>\n",
       "    </tr>\n",
       "    <tr>\n",
       "      <th>4467</th>\n",
       "      <td>4499</td>\n",
       "      <td>Alias (2004)</td>\n",
       "      <td>Alias is a third-person action adventure conta...</td>\n",
       "      <td>June 17, 2004</td>\n",
       "      <td>55</td>\n",
       "      <td>6.9</td>\n",
       "    </tr>\n",
       "  </tbody>\n",
       "</table>\n",
       "<p>4468 rows × 6 columns</p>\n",
       "</div>"
      ],
      "text/plain": [
       "      index                         Title  \\\n",
       "0         0  Disco Elysium: The Final Cut   \n",
       "1         1                   Half-Life 2   \n",
       "2         2            Grand Theft Auto V   \n",
       "3         3                The Orange Box   \n",
       "4         4                     Half-Life   \n",
       "...     ...                           ...   \n",
       "4463   4495                    Rugby 2004   \n",
       "4464   4496   Judge Dredd: Dredd VS Death   \n",
       "4465   4497             Conflict: Vietnam   \n",
       "4466   4498        Transformers: The Game   \n",
       "4467   4499                  Alias (2004)   \n",
       "\n",
       "                                            Description       Release Date  \\\n",
       "0     Disco Elysium - The Final Cut is the definitiv...     March 30, 2021   \n",
       "1     [Metacritic's 2004 PC Game of the Year]  By ta...  November 16, 2004   \n",
       "2     Los Santos: a sprawling sun-soaked metropolis ...     April 13, 2015   \n",
       "3     Games included in The Orange Box compilation: ...   October 10, 2007   \n",
       "4     Half-Life combines great storytelling in the t...  November 19, 1998   \n",
       "...                                                 ...                ...   \n",
       "4463  Choose from 20 international, all Super 12, an...   November 4, 2003   \n",
       "4464  It is the third decade of the 22nd century. Un...      March 3, 2005   \n",
       "4465  Conflict: Vietnam follows the progress of four...    October 5, 2004   \n",
       "4466  Based on the 2007 live-action feature film, Tr...      June 26, 2007   \n",
       "4467  Alias is a third-person action adventure conta...      June 17, 2004   \n",
       "\n",
       "      Metascore User Score  \n",
       "0            97        8.2  \n",
       "1            96        9.2  \n",
       "2            96        7.8  \n",
       "3            96        9.3  \n",
       "4            96        9.1  \n",
       "...         ...        ...  \n",
       "4463         55        5.5  \n",
       "4464         55        7.1  \n",
       "4465         55        7.1  \n",
       "4466         55        5.5  \n",
       "4467         55        6.9  \n",
       "\n",
       "[4468 rows x 6 columns]"
      ]
     },
     "execution_count": 12,
     "metadata": {},
     "output_type": "execute_result"
    }
   ],
   "source": [
    "complete_data = df.copy()\n",
    "complete_data"
   ]
  },
  {
   "cell_type": "code",
   "execution_count": 13,
   "metadata": {},
   "outputs": [],
   "source": [
    "new_desc = []\n",
    "for desc in complete_data['Description']:\n",
    "    update = desc.split()\n",
    "    update = [ps.stem(word) for word in update if word.lower() not in sw]\n",
    "    new_desc.append(update)"
   ]
  },
  {
   "cell_type": "code",
   "execution_count": 14,
   "metadata": {},
   "outputs": [],
   "source": [
    "complete_data['Summary'] = new_desc"
   ]
  },
  {
   "cell_type": "code",
   "execution_count": 15,
   "metadata": {},
   "outputs": [],
   "source": [
    "complete_data['Summary'] = complete_data['Summary'].str.join(\" \")"
   ]
  },
  {
   "cell_type": "code",
   "execution_count": 16,
   "metadata": {},
   "outputs": [],
   "source": [
    "complete_data['Summary'] = complete_data['Title']+ \" \" +complete_data['Summary']"
   ]
  },
  {
   "cell_type": "code",
   "execution_count": 17,
   "metadata": {},
   "outputs": [
    {
     "data": {
      "text/html": [
       "<div>\n",
       "<style scoped>\n",
       "    .dataframe tbody tr th:only-of-type {\n",
       "        vertical-align: middle;\n",
       "    }\n",
       "\n",
       "    .dataframe tbody tr th {\n",
       "        vertical-align: top;\n",
       "    }\n",
       "\n",
       "    .dataframe thead th {\n",
       "        text-align: right;\n",
       "    }\n",
       "</style>\n",
       "<table border=\"1\" class=\"dataframe\">\n",
       "  <thead>\n",
       "    <tr style=\"text-align: right;\">\n",
       "      <th></th>\n",
       "      <th>index</th>\n",
       "      <th>Title</th>\n",
       "      <th>Description</th>\n",
       "      <th>Release Date</th>\n",
       "      <th>Metascore</th>\n",
       "      <th>User Score</th>\n",
       "      <th>Summary</th>\n",
       "    </tr>\n",
       "  </thead>\n",
       "  <tbody>\n",
       "    <tr>\n",
       "      <th>0</th>\n",
       "      <td>0</td>\n",
       "      <td>Disco Elysium: The Final Cut</td>\n",
       "      <td>Disco Elysium - The Final Cut is the definitiv...</td>\n",
       "      <td>March 30, 2021</td>\n",
       "      <td>97</td>\n",
       "      <td>8.2</td>\n",
       "      <td>Disco Elysium: The Final Cut disco elysium - f...</td>\n",
       "    </tr>\n",
       "    <tr>\n",
       "      <th>1</th>\n",
       "      <td>1</td>\n",
       "      <td>Half-Life 2</td>\n",
       "      <td>[Metacritic's 2004 PC Game of the Year]  By ta...</td>\n",
       "      <td>November 16, 2004</td>\n",
       "      <td>96</td>\n",
       "      <td>9.2</td>\n",
       "      <td>Half-Life 2 [metacritic' 2004 pc game year] ta...</td>\n",
       "    </tr>\n",
       "    <tr>\n",
       "      <th>2</th>\n",
       "      <td>2</td>\n",
       "      <td>Grand Theft Auto V</td>\n",
       "      <td>Los Santos: a sprawling sun-soaked metropolis ...</td>\n",
       "      <td>April 13, 2015</td>\n",
       "      <td>96</td>\n",
       "      <td>7.8</td>\n",
       "      <td>Grand Theft Auto V lo santos: sprawl sun-soak ...</td>\n",
       "    </tr>\n",
       "    <tr>\n",
       "      <th>3</th>\n",
       "      <td>3</td>\n",
       "      <td>The Orange Box</td>\n",
       "      <td>Games included in The Orange Box compilation: ...</td>\n",
       "      <td>October 10, 2007</td>\n",
       "      <td>96</td>\n",
       "      <td>9.3</td>\n",
       "      <td>The Orange Box game includ orang box compilati...</td>\n",
       "    </tr>\n",
       "    <tr>\n",
       "      <th>4</th>\n",
       "      <td>4</td>\n",
       "      <td>Half-Life</td>\n",
       "      <td>Half-Life combines great storytelling in the t...</td>\n",
       "      <td>November 19, 1998</td>\n",
       "      <td>96</td>\n",
       "      <td>9.1</td>\n",
       "      <td>Half-Life half-lif combin great storytel tradi...</td>\n",
       "    </tr>\n",
       "  </tbody>\n",
       "</table>\n",
       "</div>"
      ],
      "text/plain": [
       "   index                         Title  \\\n",
       "0      0  Disco Elysium: The Final Cut   \n",
       "1      1                   Half-Life 2   \n",
       "2      2            Grand Theft Auto V   \n",
       "3      3                The Orange Box   \n",
       "4      4                     Half-Life   \n",
       "\n",
       "                                         Description       Release Date  \\\n",
       "0  Disco Elysium - The Final Cut is the definitiv...     March 30, 2021   \n",
       "1  [Metacritic's 2004 PC Game of the Year]  By ta...  November 16, 2004   \n",
       "2  Los Santos: a sprawling sun-soaked metropolis ...     April 13, 2015   \n",
       "3  Games included in The Orange Box compilation: ...   October 10, 2007   \n",
       "4  Half-Life combines great storytelling in the t...  November 19, 1998   \n",
       "\n",
       "   Metascore User Score                                            Summary  \n",
       "0         97        8.2  Disco Elysium: The Final Cut disco elysium - f...  \n",
       "1         96        9.2  Half-Life 2 [metacritic' 2004 pc game year] ta...  \n",
       "2         96        7.8  Grand Theft Auto V lo santos: sprawl sun-soak ...  \n",
       "3         96        9.3  The Orange Box game includ orang box compilati...  \n",
       "4         96        9.1  Half-Life half-lif combin great storytel tradi...  "
      ]
     },
     "execution_count": 17,
     "metadata": {},
     "output_type": "execute_result"
    }
   ],
   "source": [
    "complete_data.head()"
   ]
  },
  {
   "cell_type": "code",
   "execution_count": 18,
   "metadata": {},
   "outputs": [],
   "source": [
    "from sklearn.feature_extraction.text import CountVectorizer\n",
    "cv = CountVectorizer().fit_transform(complete_data['Summary'])"
   ]
  },
  {
   "cell_type": "code",
   "execution_count": 19,
   "metadata": {},
   "outputs": [],
   "source": [
    "from sklearn.metrics.pairwise import cosine_similarity\n",
    "cs = cosine_similarity(cv)"
   ]
  },
  {
   "cell_type": "code",
   "execution_count": 20,
   "metadata": {},
   "outputs": [
    {
     "name": "stdout",
     "output_type": "stream",
     "text": [
      "[[1.         0.07373211 0.05064915 ... 0.04752485 0.05427825 0.05985503]\n",
      " [0.07373211 1.         0.03594426 ... 0.04496938 0.09538218 0.02831827]\n",
      " [0.05064915 0.03594426 1.         ... 0.03089102 0.03780077 0.05835841]\n",
      " ...\n",
      " [0.04752485 0.04496938 0.03089102 ... 1.         0.04729203 0.063885  ]\n",
      " [0.05427825 0.09538218 0.03780077 ... 0.04729203 1.         0.0625399 ]\n",
      " [0.05985503 0.02831827 0.05835841 ... 0.063885   0.0625399  1.        ]]\n"
     ]
    }
   ],
   "source": [
    "print(cs)"
   ]
  },
  {
   "cell_type": "code",
   "execution_count": 21,
   "metadata": {},
   "outputs": [
    {
     "data": {
      "text/plain": [
       "(4468, 4468)"
      ]
     },
     "execution_count": 21,
     "metadata": {},
     "output_type": "execute_result"
    }
   ],
   "source": [
    "cs.shape"
   ]
  },
  {
   "cell_type": "code",
   "execution_count": 22,
   "metadata": {},
   "outputs": [
    {
     "data": {
      "text/plain": [
       "'Grand Theft Auto V'"
      ]
     },
     "execution_count": 22,
     "metadata": {},
     "output_type": "execute_result"
    }
   ],
   "source": [
    "Title = \"Grand Theft Auto V\"\n",
    "Title"
   ]
  },
  {
   "cell_type": "code",
   "execution_count": 23,
   "metadata": {},
   "outputs": [],
   "source": [
    "def recommend_game(game_name):\n",
    "    id = complete_data[complete_data.Title == game_name].index[0]\n",
    "    scores = list(enumerate(cs[id]))\n",
    "    sorted_scores = sorted(scores, key = lambda x:x[1], reverse=True)[1:16]\n",
    "\n",
    "    for item in sorted_scores:\n",
    "        print(complete_data.iloc[item[0]].Title)"
   ]
  },
  {
   "cell_type": "code",
   "execution_count": 24,
   "metadata": {},
   "outputs": [
    {
     "name": "stdout",
     "output_type": "stream",
     "text": [
      "Sea of Thieves\n",
      "Feist\n",
      "Green Hell\n",
      "Neo Cab\n",
      "The Survivalists\n",
      "The Partners\n",
      "Space Rangers 2: Rise of the Dominators\n",
      "Unrest\n",
      "Hitman: Codename 47\n",
      "Deus Ex: Invisible War\n",
      "Life is Strange\n",
      "And Yet It Moves\n",
      "State of Decay\n",
      "Devastation\n",
      "Deadlight\n"
     ]
    }
   ],
   "source": [
    "recommend_game('Grand Theft Auto V')"
   ]
  },
  {
   "cell_type": "code",
   "execution_count": 25,
   "metadata": {},
   "outputs": [],
   "source": [
    "import pickle"
   ]
  },
  {
   "cell_type": "code",
   "execution_count": 26,
   "metadata": {},
   "outputs": [],
   "source": [
    "pickle.dump(complete_data.to_dict(),open('PC_Games.pkl','wb'))"
   ]
  },
  {
   "cell_type": "code",
   "execution_count": 27,
   "metadata": {},
   "outputs": [],
   "source": [
    "pickle.dump(cs,open('cs.pkl','wb'))"
   ]
  },
  {
   "cell_type": "code",
   "execution_count": null,
   "metadata": {},
   "outputs": [],
   "source": []
  }
 ],
 "metadata": {
  "interpreter": {
   "hash": "647964b6bfb890f19d69c4cbfe6e0dbcb44820bcc2b77bf21d5f0de71d92ee89"
  },
  "kernelspec": {
   "display_name": "Python 3.8.8 64-bit ('base': conda)",
   "language": "python",
   "name": "python3"
  },
  "language_info": {
   "codemirror_mode": {
    "name": "ipython",
    "version": 3
   },
   "file_extension": ".py",
   "mimetype": "text/x-python",
   "name": "python",
   "nbconvert_exporter": "python",
   "pygments_lexer": "ipython3",
   "version": "3.8.8"
  },
  "orig_nbformat": 4
 },
 "nbformat": 4,
 "nbformat_minor": 2
}
