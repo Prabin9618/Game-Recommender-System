{
 "cells": [
  {
   "cell_type": "code",
   "execution_count": 1,
   "metadata": {},
   "outputs": [],
   "source": [
    "import numpy as np\n",
    "import pandas as pd\n",
    "import re\n",
    "from nltk.corpus import stopwords\n",
    "sw = set(stopwords.words('english'))\n",
    "\n",
    "from nltk.stem.wordnet import WordNetLemmatizer\n",
    "wl = WordNetLemmatizer()"
   ]
  },
  {
   "cell_type": "code",
   "execution_count": 13,
   "metadata": {},
   "outputs": [],
   "source": [
    "df = pd.read_csv('PC_Games_2021.csv')"
   ]
  },
  {
   "cell_type": "code",
   "execution_count": 14,
   "metadata": {},
   "outputs": [
    {
     "data": {
      "text/html": [
       "<div>\n",
       "<style scoped>\n",
       "    .dataframe tbody tr th:only-of-type {\n",
       "        vertical-align: middle;\n",
       "    }\n",
       "\n",
       "    .dataframe tbody tr th {\n",
       "        vertical-align: top;\n",
       "    }\n",
       "\n",
       "    .dataframe thead th {\n",
       "        text-align: right;\n",
       "    }\n",
       "</style>\n",
       "<table border=\"1\" class=\"dataframe\">\n",
       "  <thead>\n",
       "    <tr style=\"text-align: right;\">\n",
       "      <th></th>\n",
       "      <th>Unnamed: 0</th>\n",
       "      <th>Title</th>\n",
       "      <th>Description</th>\n",
       "      <th>Release Date</th>\n",
       "      <th>Metascore</th>\n",
       "      <th>User Score</th>\n",
       "    </tr>\n",
       "  </thead>\n",
       "  <tbody>\n",
       "    <tr>\n",
       "      <th>0</th>\n",
       "      <td>0</td>\n",
       "      <td>Disco Elysium: The Final Cut</td>\n",
       "      <td>Disco Elysium - The Final Cut is the definitiv...</td>\n",
       "      <td>March 30, 2021</td>\n",
       "      <td>97</td>\n",
       "      <td>8.2</td>\n",
       "    </tr>\n",
       "    <tr>\n",
       "      <th>1</th>\n",
       "      <td>1</td>\n",
       "      <td>Half-Life 2</td>\n",
       "      <td>[Metacritic's 2004 PC Game of the Year]  By ta...</td>\n",
       "      <td>November 16, 2004</td>\n",
       "      <td>96</td>\n",
       "      <td>9.2</td>\n",
       "    </tr>\n",
       "    <tr>\n",
       "      <th>2</th>\n",
       "      <td>2</td>\n",
       "      <td>Grand Theft Auto V</td>\n",
       "      <td>Los Santos: a sprawling sun-soaked metropolis ...</td>\n",
       "      <td>April 13, 2015</td>\n",
       "      <td>96</td>\n",
       "      <td>7.8</td>\n",
       "    </tr>\n",
       "    <tr>\n",
       "      <th>3</th>\n",
       "      <td>3</td>\n",
       "      <td>The Orange Box</td>\n",
       "      <td>Games included in The Orange Box compilation: ...</td>\n",
       "      <td>October 10, 2007</td>\n",
       "      <td>96</td>\n",
       "      <td>9.3</td>\n",
       "    </tr>\n",
       "    <tr>\n",
       "      <th>4</th>\n",
       "      <td>4</td>\n",
       "      <td>Half-Life</td>\n",
       "      <td>Half-Life combines great storytelling in the t...</td>\n",
       "      <td>November 19, 1998</td>\n",
       "      <td>96</td>\n",
       "      <td>9.1</td>\n",
       "    </tr>\n",
       "  </tbody>\n",
       "</table>\n",
       "</div>"
      ],
      "text/plain": [
       "   Unnamed: 0                         Title  \\\n",
       "0           0  Disco Elysium: The Final Cut   \n",
       "1           1                   Half-Life 2   \n",
       "2           2            Grand Theft Auto V   \n",
       "3           3                The Orange Box   \n",
       "4           4                     Half-Life   \n",
       "\n",
       "                                         Description       Release Date  \\\n",
       "0  Disco Elysium - The Final Cut is the definitiv...     March 30, 2021   \n",
       "1  [Metacritic's 2004 PC Game of the Year]  By ta...  November 16, 2004   \n",
       "2  Los Santos: a sprawling sun-soaked metropolis ...     April 13, 2015   \n",
       "3  Games included in The Orange Box compilation: ...   October 10, 2007   \n",
       "4  Half-Life combines great storytelling in the t...  November 19, 1998   \n",
       "\n",
       "   Metascore User Score  \n",
       "0         97        8.2  \n",
       "1         96        9.2  \n",
       "2         96        7.8  \n",
       "3         96        9.3  \n",
       "4         96        9.1  "
      ]
     },
     "execution_count": 14,
     "metadata": {},
     "output_type": "execute_result"
    }
   ],
   "source": [
    "df.head()"
   ]
  },
  {
   "cell_type": "code",
   "execution_count": 15,
   "metadata": {},
   "outputs": [
    {
     "name": "stdout",
     "output_type": "stream",
     "text": [
      "<class 'pandas.core.frame.DataFrame'>\n",
      "RangeIndex: 4500 entries, 0 to 4499\n",
      "Data columns (total 6 columns):\n",
      " #   Column        Non-Null Count  Dtype \n",
      "---  ------        --------------  ----- \n",
      " 0   Unnamed: 0    4500 non-null   int64 \n",
      " 1   Title         4500 non-null   object\n",
      " 2   Description   4468 non-null   object\n",
      " 3   Release Date  4500 non-null   object\n",
      " 4   Metascore     4500 non-null   int64 \n",
      " 5   User Score    4500 non-null   object\n",
      "dtypes: int64(2), object(4)\n",
      "memory usage: 211.1+ KB\n"
     ]
    }
   ],
   "source": [
    "df.info()"
   ]
  },
  {
   "cell_type": "code",
   "execution_count": 16,
   "metadata": {},
   "outputs": [],
   "source": [
    "df.reset_index(inplace=True)"
   ]
  },
  {
   "cell_type": "code",
   "execution_count": 17,
   "metadata": {},
   "outputs": [
    {
     "data": {
      "text/html": [
       "<div>\n",
       "<style scoped>\n",
       "    .dataframe tbody tr th:only-of-type {\n",
       "        vertical-align: middle;\n",
       "    }\n",
       "\n",
       "    .dataframe tbody tr th {\n",
       "        vertical-align: top;\n",
       "    }\n",
       "\n",
       "    .dataframe thead th {\n",
       "        text-align: right;\n",
       "    }\n",
       "</style>\n",
       "<table border=\"1\" class=\"dataframe\">\n",
       "  <thead>\n",
       "    <tr style=\"text-align: right;\">\n",
       "      <th></th>\n",
       "      <th>index</th>\n",
       "      <th>Unnamed: 0</th>\n",
       "      <th>Title</th>\n",
       "      <th>Description</th>\n",
       "      <th>Release Date</th>\n",
       "      <th>Metascore</th>\n",
       "      <th>User Score</th>\n",
       "    </tr>\n",
       "  </thead>\n",
       "  <tbody>\n",
       "    <tr>\n",
       "      <th>0</th>\n",
       "      <td>0</td>\n",
       "      <td>0</td>\n",
       "      <td>Disco Elysium: The Final Cut</td>\n",
       "      <td>Disco Elysium - The Final Cut is the definitiv...</td>\n",
       "      <td>March 30, 2021</td>\n",
       "      <td>97</td>\n",
       "      <td>8.2</td>\n",
       "    </tr>\n",
       "    <tr>\n",
       "      <th>1</th>\n",
       "      <td>1</td>\n",
       "      <td>1</td>\n",
       "      <td>Half-Life 2</td>\n",
       "      <td>[Metacritic's 2004 PC Game of the Year]  By ta...</td>\n",
       "      <td>November 16, 2004</td>\n",
       "      <td>96</td>\n",
       "      <td>9.2</td>\n",
       "    </tr>\n",
       "    <tr>\n",
       "      <th>2</th>\n",
       "      <td>2</td>\n",
       "      <td>2</td>\n",
       "      <td>Grand Theft Auto V</td>\n",
       "      <td>Los Santos: a sprawling sun-soaked metropolis ...</td>\n",
       "      <td>April 13, 2015</td>\n",
       "      <td>96</td>\n",
       "      <td>7.8</td>\n",
       "    </tr>\n",
       "    <tr>\n",
       "      <th>3</th>\n",
       "      <td>3</td>\n",
       "      <td>3</td>\n",
       "      <td>The Orange Box</td>\n",
       "      <td>Games included in The Orange Box compilation: ...</td>\n",
       "      <td>October 10, 2007</td>\n",
       "      <td>96</td>\n",
       "      <td>9.3</td>\n",
       "    </tr>\n",
       "    <tr>\n",
       "      <th>4</th>\n",
       "      <td>4</td>\n",
       "      <td>4</td>\n",
       "      <td>Half-Life</td>\n",
       "      <td>Half-Life combines great storytelling in the t...</td>\n",
       "      <td>November 19, 1998</td>\n",
       "      <td>96</td>\n",
       "      <td>9.1</td>\n",
       "    </tr>\n",
       "  </tbody>\n",
       "</table>\n",
       "</div>"
      ],
      "text/plain": [
       "   index  Unnamed: 0                         Title  \\\n",
       "0      0           0  Disco Elysium: The Final Cut   \n",
       "1      1           1                   Half-Life 2   \n",
       "2      2           2            Grand Theft Auto V   \n",
       "3      3           3                The Orange Box   \n",
       "4      4           4                     Half-Life   \n",
       "\n",
       "                                         Description       Release Date  \\\n",
       "0  Disco Elysium - The Final Cut is the definitiv...     March 30, 2021   \n",
       "1  [Metacritic's 2004 PC Game of the Year]  By ta...  November 16, 2004   \n",
       "2  Los Santos: a sprawling sun-soaked metropolis ...     April 13, 2015   \n",
       "3  Games included in The Orange Box compilation: ...   October 10, 2007   \n",
       "4  Half-Life combines great storytelling in the t...  November 19, 1998   \n",
       "\n",
       "   Metascore User Score  \n",
       "0         97        8.2  \n",
       "1         96        9.2  \n",
       "2         96        7.8  \n",
       "3         96        9.3  \n",
       "4         96        9.1  "
      ]
     },
     "execution_count": 17,
     "metadata": {},
     "output_type": "execute_result"
    }
   ],
   "source": [
    "df.head()"
   ]
  },
  {
   "cell_type": "code",
   "execution_count": 18,
   "metadata": {},
   "outputs": [],
   "source": [
    "df.drop(columns=['index','Unnamed: 0'],inplace=True)"
   ]
  },
  {
   "cell_type": "code",
   "execution_count": 19,
   "metadata": {},
   "outputs": [
    {
     "data": {
      "text/html": [
       "<div>\n",
       "<style scoped>\n",
       "    .dataframe tbody tr th:only-of-type {\n",
       "        vertical-align: middle;\n",
       "    }\n",
       "\n",
       "    .dataframe tbody tr th {\n",
       "        vertical-align: top;\n",
       "    }\n",
       "\n",
       "    .dataframe thead th {\n",
       "        text-align: right;\n",
       "    }\n",
       "</style>\n",
       "<table border=\"1\" class=\"dataframe\">\n",
       "  <thead>\n",
       "    <tr style=\"text-align: right;\">\n",
       "      <th></th>\n",
       "      <th>Title</th>\n",
       "      <th>Description</th>\n",
       "      <th>Release Date</th>\n",
       "      <th>Metascore</th>\n",
       "      <th>User Score</th>\n",
       "    </tr>\n",
       "  </thead>\n",
       "  <tbody>\n",
       "    <tr>\n",
       "      <th>0</th>\n",
       "      <td>Disco Elysium: The Final Cut</td>\n",
       "      <td>Disco Elysium - The Final Cut is the definitiv...</td>\n",
       "      <td>March 30, 2021</td>\n",
       "      <td>97</td>\n",
       "      <td>8.2</td>\n",
       "    </tr>\n",
       "    <tr>\n",
       "      <th>1</th>\n",
       "      <td>Half-Life 2</td>\n",
       "      <td>[Metacritic's 2004 PC Game of the Year]  By ta...</td>\n",
       "      <td>November 16, 2004</td>\n",
       "      <td>96</td>\n",
       "      <td>9.2</td>\n",
       "    </tr>\n",
       "    <tr>\n",
       "      <th>2</th>\n",
       "      <td>Grand Theft Auto V</td>\n",
       "      <td>Los Santos: a sprawling sun-soaked metropolis ...</td>\n",
       "      <td>April 13, 2015</td>\n",
       "      <td>96</td>\n",
       "      <td>7.8</td>\n",
       "    </tr>\n",
       "    <tr>\n",
       "      <th>3</th>\n",
       "      <td>The Orange Box</td>\n",
       "      <td>Games included in The Orange Box compilation: ...</td>\n",
       "      <td>October 10, 2007</td>\n",
       "      <td>96</td>\n",
       "      <td>9.3</td>\n",
       "    </tr>\n",
       "    <tr>\n",
       "      <th>4</th>\n",
       "      <td>Half-Life</td>\n",
       "      <td>Half-Life combines great storytelling in the t...</td>\n",
       "      <td>November 19, 1998</td>\n",
       "      <td>96</td>\n",
       "      <td>9.1</td>\n",
       "    </tr>\n",
       "  </tbody>\n",
       "</table>\n",
       "</div>"
      ],
      "text/plain": [
       "                          Title  \\\n",
       "0  Disco Elysium: The Final Cut   \n",
       "1                   Half-Life 2   \n",
       "2            Grand Theft Auto V   \n",
       "3                The Orange Box   \n",
       "4                     Half-Life   \n",
       "\n",
       "                                         Description       Release Date  \\\n",
       "0  Disco Elysium - The Final Cut is the definitiv...     March 30, 2021   \n",
       "1  [Metacritic's 2004 PC Game of the Year]  By ta...  November 16, 2004   \n",
       "2  Los Santos: a sprawling sun-soaked metropolis ...     April 13, 2015   \n",
       "3  Games included in The Orange Box compilation: ...   October 10, 2007   \n",
       "4  Half-Life combines great storytelling in the t...  November 19, 1998   \n",
       "\n",
       "   Metascore User Score  \n",
       "0         97        8.2  \n",
       "1         96        9.2  \n",
       "2         96        7.8  \n",
       "3         96        9.3  \n",
       "4         96        9.1  "
      ]
     },
     "execution_count": 19,
     "metadata": {},
     "output_type": "execute_result"
    }
   ],
   "source": [
    "df.head()"
   ]
  },
  {
   "cell_type": "code",
   "execution_count": 20,
   "metadata": {},
   "outputs": [],
   "source": [
    "df.dropna(inplace=True)"
   ]
  },
  {
   "cell_type": "code",
   "execution_count": 21,
   "metadata": {},
   "outputs": [
    {
     "name": "stdout",
     "output_type": "stream",
     "text": [
      "<class 'pandas.core.frame.DataFrame'>\n",
      "Int64Index: 4468 entries, 0 to 4499\n",
      "Data columns (total 5 columns):\n",
      " #   Column        Non-Null Count  Dtype \n",
      "---  ------        --------------  ----- \n",
      " 0   Title         4468 non-null   object\n",
      " 1   Description   4468 non-null   object\n",
      " 2   Release Date  4468 non-null   object\n",
      " 3   Metascore     4468 non-null   int64 \n",
      " 4   User Score    4468 non-null   object\n",
      "dtypes: int64(1), object(4)\n",
      "memory usage: 209.4+ KB\n"
     ]
    }
   ],
   "source": [
    "df.info()"
   ]
  },
  {
   "cell_type": "code",
   "execution_count": 22,
   "metadata": {},
   "outputs": [
    {
     "data": {
      "text/html": [
       "<div>\n",
       "<style scoped>\n",
       "    .dataframe tbody tr th:only-of-type {\n",
       "        vertical-align: middle;\n",
       "    }\n",
       "\n",
       "    .dataframe tbody tr th {\n",
       "        vertical-align: top;\n",
       "    }\n",
       "\n",
       "    .dataframe thead th {\n",
       "        text-align: right;\n",
       "    }\n",
       "</style>\n",
       "<table border=\"1\" class=\"dataframe\">\n",
       "  <thead>\n",
       "    <tr style=\"text-align: right;\">\n",
       "      <th></th>\n",
       "      <th>Title</th>\n",
       "      <th>Description</th>\n",
       "      <th>Release Date</th>\n",
       "      <th>Metascore</th>\n",
       "      <th>User Score</th>\n",
       "    </tr>\n",
       "  </thead>\n",
       "  <tbody>\n",
       "    <tr>\n",
       "      <th>0</th>\n",
       "      <td>Disco Elysium: The Final Cut</td>\n",
       "      <td>Disco Elysium - The Final Cut is the definitiv...</td>\n",
       "      <td>March 30, 2021</td>\n",
       "      <td>97</td>\n",
       "      <td>8.2</td>\n",
       "    </tr>\n",
       "    <tr>\n",
       "      <th>1</th>\n",
       "      <td>Half-Life 2</td>\n",
       "      <td>[Metacritic's 2004 PC Game of the Year]  By ta...</td>\n",
       "      <td>November 16, 2004</td>\n",
       "      <td>96</td>\n",
       "      <td>9.2</td>\n",
       "    </tr>\n",
       "    <tr>\n",
       "      <th>2</th>\n",
       "      <td>Grand Theft Auto V</td>\n",
       "      <td>Los Santos: a sprawling sun-soaked metropolis ...</td>\n",
       "      <td>April 13, 2015</td>\n",
       "      <td>96</td>\n",
       "      <td>7.8</td>\n",
       "    </tr>\n",
       "    <tr>\n",
       "      <th>3</th>\n",
       "      <td>The Orange Box</td>\n",
       "      <td>Games included in The Orange Box compilation: ...</td>\n",
       "      <td>October 10, 2007</td>\n",
       "      <td>96</td>\n",
       "      <td>9.3</td>\n",
       "    </tr>\n",
       "    <tr>\n",
       "      <th>4</th>\n",
       "      <td>Half-Life</td>\n",
       "      <td>Half-Life combines great storytelling in the t...</td>\n",
       "      <td>November 19, 1998</td>\n",
       "      <td>96</td>\n",
       "      <td>9.1</td>\n",
       "    </tr>\n",
       "    <tr>\n",
       "      <th>...</th>\n",
       "      <td>...</td>\n",
       "      <td>...</td>\n",
       "      <td>...</td>\n",
       "      <td>...</td>\n",
       "      <td>...</td>\n",
       "    </tr>\n",
       "    <tr>\n",
       "      <th>4495</th>\n",
       "      <td>Rugby 2004</td>\n",
       "      <td>Choose from 20 international, all Super 12, an...</td>\n",
       "      <td>November 4, 2003</td>\n",
       "      <td>55</td>\n",
       "      <td>5.5</td>\n",
       "    </tr>\n",
       "    <tr>\n",
       "      <th>4496</th>\n",
       "      <td>Judge Dredd: Dredd VS Death</td>\n",
       "      <td>It is the third decade of the 22nd century. Un...</td>\n",
       "      <td>March 3, 2005</td>\n",
       "      <td>55</td>\n",
       "      <td>7.1</td>\n",
       "    </tr>\n",
       "    <tr>\n",
       "      <th>4497</th>\n",
       "      <td>Conflict: Vietnam</td>\n",
       "      <td>Conflict: Vietnam follows the progress of four...</td>\n",
       "      <td>October 5, 2004</td>\n",
       "      <td>55</td>\n",
       "      <td>7.1</td>\n",
       "    </tr>\n",
       "    <tr>\n",
       "      <th>4498</th>\n",
       "      <td>Transformers: The Game</td>\n",
       "      <td>Based on the 2007 live-action feature film, Tr...</td>\n",
       "      <td>June 26, 2007</td>\n",
       "      <td>55</td>\n",
       "      <td>5.5</td>\n",
       "    </tr>\n",
       "    <tr>\n",
       "      <th>4499</th>\n",
       "      <td>Alias (2004)</td>\n",
       "      <td>Alias is a third-person action adventure conta...</td>\n",
       "      <td>June 17, 2004</td>\n",
       "      <td>55</td>\n",
       "      <td>6.9</td>\n",
       "    </tr>\n",
       "  </tbody>\n",
       "</table>\n",
       "<p>4468 rows × 5 columns</p>\n",
       "</div>"
      ],
      "text/plain": [
       "                             Title  \\\n",
       "0     Disco Elysium: The Final Cut   \n",
       "1                      Half-Life 2   \n",
       "2               Grand Theft Auto V   \n",
       "3                   The Orange Box   \n",
       "4                        Half-Life   \n",
       "...                            ...   \n",
       "4495                    Rugby 2004   \n",
       "4496   Judge Dredd: Dredd VS Death   \n",
       "4497             Conflict: Vietnam   \n",
       "4498        Transformers: The Game   \n",
       "4499                  Alias (2004)   \n",
       "\n",
       "                                            Description       Release Date  \\\n",
       "0     Disco Elysium - The Final Cut is the definitiv...     March 30, 2021   \n",
       "1     [Metacritic's 2004 PC Game of the Year]  By ta...  November 16, 2004   \n",
       "2     Los Santos: a sprawling sun-soaked metropolis ...     April 13, 2015   \n",
       "3     Games included in The Orange Box compilation: ...   October 10, 2007   \n",
       "4     Half-Life combines great storytelling in the t...  November 19, 1998   \n",
       "...                                                 ...                ...   \n",
       "4495  Choose from 20 international, all Super 12, an...   November 4, 2003   \n",
       "4496  It is the third decade of the 22nd century. Un...      March 3, 2005   \n",
       "4497  Conflict: Vietnam follows the progress of four...    October 5, 2004   \n",
       "4498  Based on the 2007 live-action feature film, Tr...      June 26, 2007   \n",
       "4499  Alias is a third-person action adventure conta...      June 17, 2004   \n",
       "\n",
       "      Metascore User Score  \n",
       "0            97        8.2  \n",
       "1            96        9.2  \n",
       "2            96        7.8  \n",
       "3            96        9.3  \n",
       "4            96        9.1  \n",
       "...         ...        ...  \n",
       "4495         55        5.5  \n",
       "4496         55        7.1  \n",
       "4497         55        7.1  \n",
       "4498         55        5.5  \n",
       "4499         55        6.9  \n",
       "\n",
       "[4468 rows x 5 columns]"
      ]
     },
     "execution_count": 22,
     "metadata": {},
     "output_type": "execute_result"
    }
   ],
   "source": [
    "complete_data = df.copy()\n",
    "complete_data"
   ]
  },
  {
   "cell_type": "code",
   "execution_count": 39,
   "metadata": {},
   "outputs": [],
   "source": [
    "new_desc = []\n",
    "for desc in complete_data['Description']:\n",
    "    update = re.sub(r\"(@[A-Za-z0-9]+)|([^0-9A-Za-z \\t])|(\\w+:\\/\\/\\S+)|^rt|http.+?\", \"\", desc)\n",
    "    update = update.split()\n",
    "    update = [wl.lemmatize(word) for word in update if word.lower() not in sw]\n",
    "    new_desc.append(update)"
   ]
  },
  {
   "cell_type": "code",
   "execution_count": 42,
   "metadata": {},
   "outputs": [],
   "source": [
    "complete_data['Summary'] = new_desc"
   ]
  },
  {
   "cell_type": "code",
   "execution_count": 43,
   "metadata": {},
   "outputs": [],
   "source": [
    "complete_data['Summary'] = complete_data['Summary'].str.join(\" \")"
   ]
  },
  {
   "cell_type": "code",
   "execution_count": 44,
   "metadata": {},
   "outputs": [],
   "source": [
    "complete_data['Summary'] = complete_data['Title']+ \" \" +complete_data['Summary']"
   ]
  },
  {
   "cell_type": "code",
   "execution_count": 45,
   "metadata": {},
   "outputs": [
    {
     "data": {
      "text/html": [
       "<div>\n",
       "<style scoped>\n",
       "    .dataframe tbody tr th:only-of-type {\n",
       "        vertical-align: middle;\n",
       "    }\n",
       "\n",
       "    .dataframe tbody tr th {\n",
       "        vertical-align: top;\n",
       "    }\n",
       "\n",
       "    .dataframe thead th {\n",
       "        text-align: right;\n",
       "    }\n",
       "</style>\n",
       "<table border=\"1\" class=\"dataframe\">\n",
       "  <thead>\n",
       "    <tr style=\"text-align: right;\">\n",
       "      <th></th>\n",
       "      <th>index</th>\n",
       "      <th>Title</th>\n",
       "      <th>Description</th>\n",
       "      <th>Release Date</th>\n",
       "      <th>Metascore</th>\n",
       "      <th>User Score</th>\n",
       "      <th>Summary</th>\n",
       "    </tr>\n",
       "  </thead>\n",
       "  <tbody>\n",
       "    <tr>\n",
       "      <th>0</th>\n",
       "      <td>0</td>\n",
       "      <td>Disco Elysium: The Final Cut</td>\n",
       "      <td>Disco Elysium - The Final Cut is the definitiv...</td>\n",
       "      <td>March 30, 2021</td>\n",
       "      <td>97</td>\n",
       "      <td>8.2</td>\n",
       "      <td>Disco Elysium: The Final Cut Disco Elysium Fin...</td>\n",
       "    </tr>\n",
       "    <tr>\n",
       "      <th>1</th>\n",
       "      <td>1</td>\n",
       "      <td>Half-Life 2</td>\n",
       "      <td>[Metacritic's 2004 PC Game of the Year]  By ta...</td>\n",
       "      <td>November 16, 2004</td>\n",
       "      <td>96</td>\n",
       "      <td>9.2</td>\n",
       "      <td>Half-Life 2 Metacritics 2004 PC Game Year taki...</td>\n",
       "    </tr>\n",
       "    <tr>\n",
       "      <th>2</th>\n",
       "      <td>2</td>\n",
       "      <td>Grand Theft Auto V</td>\n",
       "      <td>Los Santos: a sprawling sun-soaked metropolis ...</td>\n",
       "      <td>April 13, 2015</td>\n",
       "      <td>96</td>\n",
       "      <td>7.8</td>\n",
       "      <td>Grand Theft Auto V Los Santos sprawling sunsoa...</td>\n",
       "    </tr>\n",
       "    <tr>\n",
       "      <th>3</th>\n",
       "      <td>3</td>\n",
       "      <td>The Orange Box</td>\n",
       "      <td>Games included in The Orange Box compilation: ...</td>\n",
       "      <td>October 10, 2007</td>\n",
       "      <td>96</td>\n",
       "      <td>9.3</td>\n",
       "      <td>The Orange Box Games included Orange Box compi...</td>\n",
       "    </tr>\n",
       "    <tr>\n",
       "      <th>4</th>\n",
       "      <td>4</td>\n",
       "      <td>Half-Life</td>\n",
       "      <td>Half-Life combines great storytelling in the t...</td>\n",
       "      <td>November 19, 1998</td>\n",
       "      <td>96</td>\n",
       "      <td>9.1</td>\n",
       "      <td>Half-Life HalfLife combine great storytelling ...</td>\n",
       "    </tr>\n",
       "  </tbody>\n",
       "</table>\n",
       "</div>"
      ],
      "text/plain": [
       "   index                         Title  \\\n",
       "0      0  Disco Elysium: The Final Cut   \n",
       "1      1                   Half-Life 2   \n",
       "2      2            Grand Theft Auto V   \n",
       "3      3                The Orange Box   \n",
       "4      4                     Half-Life   \n",
       "\n",
       "                                         Description       Release Date  \\\n",
       "0  Disco Elysium - The Final Cut is the definitiv...     March 30, 2021   \n",
       "1  [Metacritic's 2004 PC Game of the Year]  By ta...  November 16, 2004   \n",
       "2  Los Santos: a sprawling sun-soaked metropolis ...     April 13, 2015   \n",
       "3  Games included in The Orange Box compilation: ...   October 10, 2007   \n",
       "4  Half-Life combines great storytelling in the t...  November 19, 1998   \n",
       "\n",
       "   Metascore User Score                                            Summary  \n",
       "0         97        8.2  Disco Elysium: The Final Cut Disco Elysium Fin...  \n",
       "1         96        9.2  Half-Life 2 Metacritics 2004 PC Game Year taki...  \n",
       "2         96        7.8  Grand Theft Auto V Los Santos sprawling sunsoa...  \n",
       "3         96        9.3  The Orange Box Games included Orange Box compi...  \n",
       "4         96        9.1  Half-Life HalfLife combine great storytelling ...  "
      ]
     },
     "execution_count": 45,
     "metadata": {},
     "output_type": "execute_result"
    }
   ],
   "source": [
    "complete_data.head()"
   ]
  },
  {
   "cell_type": "code",
   "execution_count": 46,
   "metadata": {},
   "outputs": [],
   "source": [
    "from sklearn.feature_extraction.text import CountVectorizer\n",
    "cv = CountVectorizer().fit_transform(complete_data['Summary'])"
   ]
  },
  {
   "cell_type": "code",
   "execution_count": 47,
   "metadata": {},
   "outputs": [],
   "source": [
    "from sklearn.metrics.pairwise import cosine_similarity\n",
    "cs = cosine_similarity(cv)"
   ]
  },
  {
   "cell_type": "code",
   "execution_count": 48,
   "metadata": {},
   "outputs": [
    {
     "name": "stdout",
     "output_type": "stream",
     "text": [
      "[[1.         0.06578947 0.0522887  ... 0.04941327 0.06882472 0.04480108]\n",
      " [0.06578947 1.         0.03921652 ... 0.04117772 0.0841191  0.04480108]\n",
      " [0.0522887  0.03921652 1.         ... 0.03272757 0.03038949 0.05934561]\n",
      " ...\n",
      " [0.04941327 0.04117772 0.03272757 ... 1.         0.05265026 0.0467351 ]\n",
      " [0.06882472 0.0841191  0.03038949 ... 0.05265026 1.         0.06943409]\n",
      " [0.04480108 0.04480108 0.05934561 ... 0.0467351  0.06943409 1.        ]]\n"
     ]
    }
   ],
   "source": [
    "print(cs)"
   ]
  },
  {
   "cell_type": "code",
   "execution_count": 49,
   "metadata": {},
   "outputs": [
    {
     "data": {
      "text/plain": [
       "(4468, 4468)"
      ]
     },
     "execution_count": 49,
     "metadata": {},
     "output_type": "execute_result"
    }
   ],
   "source": [
    "cs.shape"
   ]
  },
  {
   "cell_type": "code",
   "execution_count": 50,
   "metadata": {},
   "outputs": [
    {
     "data": {
      "text/plain": [
       "'Grand Theft Auto V'"
      ]
     },
     "execution_count": 50,
     "metadata": {},
     "output_type": "execute_result"
    }
   ],
   "source": [
    "Title = \"Grand Theft Auto V\"\n",
    "Title"
   ]
  },
  {
   "cell_type": "code",
   "execution_count": 51,
   "metadata": {},
   "outputs": [],
   "source": [
    "def recommend_game(game_name):\n",
    "    id = complete_data[complete_data.Title == game_name].index[0]\n",
    "    scores = list(enumerate(cs[id]))\n",
    "    sorted_scores = sorted(scores, key = lambda x:x[1], reverse=True)[1:16]\n",
    "\n",
    "    for item in sorted_scores:\n",
    "        print(complete_data.iloc[item[0]].Title)"
   ]
  },
  {
   "cell_type": "code",
   "execution_count": 56,
   "metadata": {},
   "outputs": [
    {
     "name": "stdout",
     "output_type": "stream",
     "text": [
      "FIFA Soccer 11\n",
      "FIFA 17\n",
      "FIFA Soccer 2002\n",
      "FIFA Soccer 08\n",
      "FIFA Manager 09\n",
      "FIFA Soccer 12\n",
      "FIFA Soccer 2005\n",
      "FIFA Soccer 10\n",
      "FIFA Soccer 09\n",
      "FIFA World Cup: Germany 2006\n",
      "FIFA Manager 11\n",
      "FIFA 21\n",
      "FIFA 07 Soccer\n",
      "FIFA 16\n",
      "NHL 2001\n"
     ]
    }
   ],
   "source": [
    "recommend_game('FIFA 2001 Major League Soccer')"
   ]
  },
  {
   "cell_type": "code",
   "execution_count": 57,
   "metadata": {},
   "outputs": [],
   "source": [
    "import pickle"
   ]
  },
  {
   "cell_type": "code",
   "execution_count": 58,
   "metadata": {},
   "outputs": [],
   "source": [
    "pickle.dump(complete_data.to_dict(),open('PC_Games.pkl','wb'))"
   ]
  },
  {
   "cell_type": "code",
   "execution_count": 59,
   "metadata": {},
   "outputs": [],
   "source": [
    "pickle.dump(cs,open('cs.pkl','wb'))"
   ]
  },
  {
   "cell_type": "code",
   "execution_count": null,
   "metadata": {},
   "outputs": [],
   "source": []
  }
 ],
 "metadata": {
  "interpreter": {
   "hash": "647964b6bfb890f19d69c4cbfe6e0dbcb44820bcc2b77bf21d5f0de71d92ee89"
  },
  "kernelspec": {
   "display_name": "Python 3.8.8 64-bit ('base': conda)",
   "language": "python",
   "name": "python3"
  },
  "language_info": {
   "codemirror_mode": {
    "name": "ipython",
    "version": 3
   },
   "file_extension": ".py",
   "mimetype": "text/x-python",
   "name": "python",
   "nbconvert_exporter": "python",
   "pygments_lexer": "ipython3",
   "version": "3.8.8"
  },
  "orig_nbformat": 4
 },
 "nbformat": 4,
 "nbformat_minor": 2
}
