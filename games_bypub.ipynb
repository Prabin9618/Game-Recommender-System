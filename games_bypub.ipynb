{
 "cells": [
  {
   "cell_type": "code",
   "execution_count": 1,
   "metadata": {},
   "outputs": [],
   "source": [
    "import numpy as np\n",
    "import pandas as pd\n",
    "import matplotlib.pyplot as plt\n",
    "%matplotlib inline\n",
    "import seaborn as sns\n",
    "\n",
    "from nltk.corpus import stopwords\n",
    "sw = set(stopwords.words('english'))\n",
    "\n",
    "from nltk.stem import PorterStemmer\n",
    "ps = PorterStemmer()"
   ]
  },
  {
   "cell_type": "code",
   "execution_count": 2,
   "metadata": {},
   "outputs": [],
   "source": [
    "df = pd.read_csv('PC_Games_2021.csv')"
   ]
  },
  {
   "cell_type": "code",
   "execution_count": 3,
   "metadata": {},
   "outputs": [
    {
     "data": {
      "text/html": [
       "<div>\n",
       "<style scoped>\n",
       "    .dataframe tbody tr th:only-of-type {\n",
       "        vertical-align: middle;\n",
       "    }\n",
       "\n",
       "    .dataframe tbody tr th {\n",
       "        vertical-align: top;\n",
       "    }\n",
       "\n",
       "    .dataframe thead th {\n",
       "        text-align: right;\n",
       "    }\n",
       "</style>\n",
       "<table border=\"1\" class=\"dataframe\">\n",
       "  <thead>\n",
       "    <tr style=\"text-align: right;\">\n",
       "      <th></th>\n",
       "      <th>Unnamed: 0</th>\n",
       "      <th>Title</th>\n",
       "      <th>Description</th>\n",
       "      <th>Release Date</th>\n",
       "      <th>Metascore</th>\n",
       "      <th>User Score</th>\n",
       "    </tr>\n",
       "  </thead>\n",
       "  <tbody>\n",
       "    <tr>\n",
       "      <th>0</th>\n",
       "      <td>0</td>\n",
       "      <td>Disco Elysium: The Final Cut</td>\n",
       "      <td>Disco Elysium - The Final Cut is the definitiv...</td>\n",
       "      <td>March 30, 2021</td>\n",
       "      <td>97</td>\n",
       "      <td>8.2</td>\n",
       "    </tr>\n",
       "    <tr>\n",
       "      <th>1</th>\n",
       "      <td>1</td>\n",
       "      <td>Half-Life 2</td>\n",
       "      <td>[Metacritic's 2004 PC Game of the Year]  By ta...</td>\n",
       "      <td>November 16, 2004</td>\n",
       "      <td>96</td>\n",
       "      <td>9.2</td>\n",
       "    </tr>\n",
       "    <tr>\n",
       "      <th>2</th>\n",
       "      <td>2</td>\n",
       "      <td>Grand Theft Auto V</td>\n",
       "      <td>Los Santos: a sprawling sun-soaked metropolis ...</td>\n",
       "      <td>April 13, 2015</td>\n",
       "      <td>96</td>\n",
       "      <td>7.8</td>\n",
       "    </tr>\n",
       "    <tr>\n",
       "      <th>3</th>\n",
       "      <td>3</td>\n",
       "      <td>The Orange Box</td>\n",
       "      <td>Games included in The Orange Box compilation: ...</td>\n",
       "      <td>October 10, 2007</td>\n",
       "      <td>96</td>\n",
       "      <td>9.3</td>\n",
       "    </tr>\n",
       "    <tr>\n",
       "      <th>4</th>\n",
       "      <td>4</td>\n",
       "      <td>Half-Life</td>\n",
       "      <td>Half-Life combines great storytelling in the t...</td>\n",
       "      <td>November 19, 1998</td>\n",
       "      <td>96</td>\n",
       "      <td>9.1</td>\n",
       "    </tr>\n",
       "  </tbody>\n",
       "</table>\n",
       "</div>"
      ],
      "text/plain": [
       "   Unnamed: 0                         Title  \\\n",
       "0           0  Disco Elysium: The Final Cut   \n",
       "1           1                   Half-Life 2   \n",
       "2           2            Grand Theft Auto V   \n",
       "3           3                The Orange Box   \n",
       "4           4                     Half-Life   \n",
       "\n",
       "                                         Description       Release Date  \\\n",
       "0  Disco Elysium - The Final Cut is the definitiv...     March 30, 2021   \n",
       "1  [Metacritic's 2004 PC Game of the Year]  By ta...  November 16, 2004   \n",
       "2  Los Santos: a sprawling sun-soaked metropolis ...     April 13, 2015   \n",
       "3  Games included in The Orange Box compilation: ...   October 10, 2007   \n",
       "4  Half-Life combines great storytelling in the t...  November 19, 1998   \n",
       "\n",
       "   Metascore User Score  \n",
       "0         97        8.2  \n",
       "1         96        9.2  \n",
       "2         96        7.8  \n",
       "3         96        9.3  \n",
       "4         96        9.1  "
      ]
     },
     "execution_count": 3,
     "metadata": {},
     "output_type": "execute_result"
    }
   ],
   "source": [
    "df.head()"
   ]
  },
  {
   "cell_type": "code",
   "execution_count": 4,
   "metadata": {},
   "outputs": [
    {
     "name": "stdout",
     "output_type": "stream",
     "text": [
      "<class 'pandas.core.frame.DataFrame'>\n",
      "RangeIndex: 4500 entries, 0 to 4499\n",
      "Data columns (total 6 columns):\n",
      " #   Column        Non-Null Count  Dtype \n",
      "---  ------        --------------  ----- \n",
      " 0   Unnamed: 0    4500 non-null   int64 \n",
      " 1   Title         4500 non-null   object\n",
      " 2   Description   4468 non-null   object\n",
      " 3   Release Date  4500 non-null   object\n",
      " 4   Metascore     4500 non-null   int64 \n",
      " 5   User Score    4500 non-null   object\n",
      "dtypes: int64(2), object(4)\n",
      "memory usage: 211.1+ KB\n"
     ]
    }
   ],
   "source": [
    "df.info()"
   ]
  },
  {
   "cell_type": "code",
   "execution_count": 5,
   "metadata": {},
   "outputs": [],
   "source": [
    "df.reset_index(inplace=True)"
   ]
  },
  {
   "cell_type": "code",
   "execution_count": 6,
   "metadata": {},
   "outputs": [
    {
     "data": {
      "text/html": [
       "<div>\n",
       "<style scoped>\n",
       "    .dataframe tbody tr th:only-of-type {\n",
       "        vertical-align: middle;\n",
       "    }\n",
       "\n",
       "    .dataframe tbody tr th {\n",
       "        vertical-align: top;\n",
       "    }\n",
       "\n",
       "    .dataframe thead th {\n",
       "        text-align: right;\n",
       "    }\n",
       "</style>\n",
       "<table border=\"1\" class=\"dataframe\">\n",
       "  <thead>\n",
       "    <tr style=\"text-align: right;\">\n",
       "      <th></th>\n",
       "      <th>index</th>\n",
       "      <th>Unnamed: 0</th>\n",
       "      <th>Title</th>\n",
       "      <th>Description</th>\n",
       "      <th>Release Date</th>\n",
       "      <th>Metascore</th>\n",
       "      <th>User Score</th>\n",
       "    </tr>\n",
       "  </thead>\n",
       "  <tbody>\n",
       "    <tr>\n",
       "      <th>0</th>\n",
       "      <td>0</td>\n",
       "      <td>0</td>\n",
       "      <td>Disco Elysium: The Final Cut</td>\n",
       "      <td>Disco Elysium - The Final Cut is the definitiv...</td>\n",
       "      <td>March 30, 2021</td>\n",
       "      <td>97</td>\n",
       "      <td>8.2</td>\n",
       "    </tr>\n",
       "    <tr>\n",
       "      <th>1</th>\n",
       "      <td>1</td>\n",
       "      <td>1</td>\n",
       "      <td>Half-Life 2</td>\n",
       "      <td>[Metacritic's 2004 PC Game of the Year]  By ta...</td>\n",
       "      <td>November 16, 2004</td>\n",
       "      <td>96</td>\n",
       "      <td>9.2</td>\n",
       "    </tr>\n",
       "    <tr>\n",
       "      <th>2</th>\n",
       "      <td>2</td>\n",
       "      <td>2</td>\n",
       "      <td>Grand Theft Auto V</td>\n",
       "      <td>Los Santos: a sprawling sun-soaked metropolis ...</td>\n",
       "      <td>April 13, 2015</td>\n",
       "      <td>96</td>\n",
       "      <td>7.8</td>\n",
       "    </tr>\n",
       "    <tr>\n",
       "      <th>3</th>\n",
       "      <td>3</td>\n",
       "      <td>3</td>\n",
       "      <td>The Orange Box</td>\n",
       "      <td>Games included in The Orange Box compilation: ...</td>\n",
       "      <td>October 10, 2007</td>\n",
       "      <td>96</td>\n",
       "      <td>9.3</td>\n",
       "    </tr>\n",
       "    <tr>\n",
       "      <th>4</th>\n",
       "      <td>4</td>\n",
       "      <td>4</td>\n",
       "      <td>Half-Life</td>\n",
       "      <td>Half-Life combines great storytelling in the t...</td>\n",
       "      <td>November 19, 1998</td>\n",
       "      <td>96</td>\n",
       "      <td>9.1</td>\n",
       "    </tr>\n",
       "  </tbody>\n",
       "</table>\n",
       "</div>"
      ],
      "text/plain": [
       "   index  Unnamed: 0                         Title  \\\n",
       "0      0           0  Disco Elysium: The Final Cut   \n",
       "1      1           1                   Half-Life 2   \n",
       "2      2           2            Grand Theft Auto V   \n",
       "3      3           3                The Orange Box   \n",
       "4      4           4                     Half-Life   \n",
       "\n",
       "                                         Description       Release Date  \\\n",
       "0  Disco Elysium - The Final Cut is the definitiv...     March 30, 2021   \n",
       "1  [Metacritic's 2004 PC Game of the Year]  By ta...  November 16, 2004   \n",
       "2  Los Santos: a sprawling sun-soaked metropolis ...     April 13, 2015   \n",
       "3  Games included in The Orange Box compilation: ...   October 10, 2007   \n",
       "4  Half-Life combines great storytelling in the t...  November 19, 1998   \n",
       "\n",
       "   Metascore User Score  \n",
       "0         97        8.2  \n",
       "1         96        9.2  \n",
       "2         96        7.8  \n",
       "3         96        9.3  \n",
       "4         96        9.1  "
      ]
     },
     "execution_count": 6,
     "metadata": {},
     "output_type": "execute_result"
    }
   ],
   "source": [
    "df.head()"
   ]
  },
  {
   "cell_type": "code",
   "execution_count": 7,
   "metadata": {},
   "outputs": [],
   "source": [
    "df.drop(columns=['index','Unnamed: 0'],inplace=True)"
   ]
  },
  {
   "cell_type": "code",
   "execution_count": 8,
   "metadata": {},
   "outputs": [
    {
     "data": {
      "text/html": [
       "<div>\n",
       "<style scoped>\n",
       "    .dataframe tbody tr th:only-of-type {\n",
       "        vertical-align: middle;\n",
       "    }\n",
       "\n",
       "    .dataframe tbody tr th {\n",
       "        vertical-align: top;\n",
       "    }\n",
       "\n",
       "    .dataframe thead th {\n",
       "        text-align: right;\n",
       "    }\n",
       "</style>\n",
       "<table border=\"1\" class=\"dataframe\">\n",
       "  <thead>\n",
       "    <tr style=\"text-align: right;\">\n",
       "      <th></th>\n",
       "      <th>Title</th>\n",
       "      <th>Description</th>\n",
       "      <th>Release Date</th>\n",
       "      <th>Metascore</th>\n",
       "      <th>User Score</th>\n",
       "    </tr>\n",
       "  </thead>\n",
       "  <tbody>\n",
       "    <tr>\n",
       "      <th>0</th>\n",
       "      <td>Disco Elysium: The Final Cut</td>\n",
       "      <td>Disco Elysium - The Final Cut is the definitiv...</td>\n",
       "      <td>March 30, 2021</td>\n",
       "      <td>97</td>\n",
       "      <td>8.2</td>\n",
       "    </tr>\n",
       "    <tr>\n",
       "      <th>1</th>\n",
       "      <td>Half-Life 2</td>\n",
       "      <td>[Metacritic's 2004 PC Game of the Year]  By ta...</td>\n",
       "      <td>November 16, 2004</td>\n",
       "      <td>96</td>\n",
       "      <td>9.2</td>\n",
       "    </tr>\n",
       "    <tr>\n",
       "      <th>2</th>\n",
       "      <td>Grand Theft Auto V</td>\n",
       "      <td>Los Santos: a sprawling sun-soaked metropolis ...</td>\n",
       "      <td>April 13, 2015</td>\n",
       "      <td>96</td>\n",
       "      <td>7.8</td>\n",
       "    </tr>\n",
       "    <tr>\n",
       "      <th>3</th>\n",
       "      <td>The Orange Box</td>\n",
       "      <td>Games included in The Orange Box compilation: ...</td>\n",
       "      <td>October 10, 2007</td>\n",
       "      <td>96</td>\n",
       "      <td>9.3</td>\n",
       "    </tr>\n",
       "    <tr>\n",
       "      <th>4</th>\n",
       "      <td>Half-Life</td>\n",
       "      <td>Half-Life combines great storytelling in the t...</td>\n",
       "      <td>November 19, 1998</td>\n",
       "      <td>96</td>\n",
       "      <td>9.1</td>\n",
       "    </tr>\n",
       "  </tbody>\n",
       "</table>\n",
       "</div>"
      ],
      "text/plain": [
       "                          Title  \\\n",
       "0  Disco Elysium: The Final Cut   \n",
       "1                   Half-Life 2   \n",
       "2            Grand Theft Auto V   \n",
       "3                The Orange Box   \n",
       "4                     Half-Life   \n",
       "\n",
       "                                         Description       Release Date  \\\n",
       "0  Disco Elysium - The Final Cut is the definitiv...     March 30, 2021   \n",
       "1  [Metacritic's 2004 PC Game of the Year]  By ta...  November 16, 2004   \n",
       "2  Los Santos: a sprawling sun-soaked metropolis ...     April 13, 2015   \n",
       "3  Games included in The Orange Box compilation: ...   October 10, 2007   \n",
       "4  Half-Life combines great storytelling in the t...  November 19, 1998   \n",
       "\n",
       "   Metascore User Score  \n",
       "0         97        8.2  \n",
       "1         96        9.2  \n",
       "2         96        7.8  \n",
       "3         96        9.3  \n",
       "4         96        9.1  "
      ]
     },
     "execution_count": 8,
     "metadata": {},
     "output_type": "execute_result"
    }
   ],
   "source": [
    "df.head()"
   ]
  },
  {
   "cell_type": "code",
   "execution_count": 9,
   "metadata": {},
   "outputs": [],
   "source": [
    "df.dropna(inplace=True)"
   ]
  },
  {
   "cell_type": "code",
   "execution_count": 10,
   "metadata": {},
   "outputs": [
    {
     "name": "stdout",
     "output_type": "stream",
     "text": [
      "<class 'pandas.core.frame.DataFrame'>\n",
      "Int64Index: 4468 entries, 0 to 4499\n",
      "Data columns (total 5 columns):\n",
      " #   Column        Non-Null Count  Dtype \n",
      "---  ------        --------------  ----- \n",
      " 0   Title         4468 non-null   object\n",
      " 1   Description   4468 non-null   object\n",
      " 2   Release Date  4468 non-null   object\n",
      " 3   Metascore     4468 non-null   int64 \n",
      " 4   User Score    4468 non-null   object\n",
      "dtypes: int64(1), object(4)\n",
      "memory usage: 209.4+ KB\n"
     ]
    }
   ],
   "source": [
    "df.info()"
   ]
  },
  {
   "cell_type": "code",
   "execution_count": 11,
   "metadata": {},
   "outputs": [],
   "source": [
    "df.reset_index(inplace=True)"
   ]
  },
  {
   "cell_type": "code",
   "execution_count": 12,
   "metadata": {},
   "outputs": [],
   "source": [
    "complete_data = df.copy()"
   ]
  },
  {
   "cell_type": "code",
   "execution_count": 13,
   "metadata": {},
   "outputs": [],
   "source": [
    "pub = complete_data['Title']"
   ]
  },
  {
   "cell_type": "code",
   "execution_count": 14,
   "metadata": {},
   "outputs": [],
   "source": [
    "complete_data['Publisher'] = pub"
   ]
  },
  {
   "cell_type": "code",
   "execution_count": 15,
   "metadata": {},
   "outputs": [
    {
     "data": {
      "text/html": [
       "<div>\n",
       "<style scoped>\n",
       "    .dataframe tbody tr th:only-of-type {\n",
       "        vertical-align: middle;\n",
       "    }\n",
       "\n",
       "    .dataframe tbody tr th {\n",
       "        vertical-align: top;\n",
       "    }\n",
       "\n",
       "    .dataframe thead th {\n",
       "        text-align: right;\n",
       "    }\n",
       "</style>\n",
       "<table border=\"1\" class=\"dataframe\">\n",
       "  <thead>\n",
       "    <tr style=\"text-align: right;\">\n",
       "      <th></th>\n",
       "      <th>Title</th>\n",
       "      <th>Publisher</th>\n",
       "    </tr>\n",
       "  </thead>\n",
       "  <tbody>\n",
       "    <tr>\n",
       "      <th>0</th>\n",
       "      <td>Disco Elysium: The Final Cut</td>\n",
       "      <td>Disco Elysium: The Final Cut</td>\n",
       "    </tr>\n",
       "    <tr>\n",
       "      <th>1</th>\n",
       "      <td>Half-Life 2</td>\n",
       "      <td>Half-Life 2</td>\n",
       "    </tr>\n",
       "    <tr>\n",
       "      <th>2</th>\n",
       "      <td>Grand Theft Auto V</td>\n",
       "      <td>Grand Theft Auto V</td>\n",
       "    </tr>\n",
       "    <tr>\n",
       "      <th>3</th>\n",
       "      <td>The Orange Box</td>\n",
       "      <td>The Orange Box</td>\n",
       "    </tr>\n",
       "    <tr>\n",
       "      <th>4</th>\n",
       "      <td>Half-Life</td>\n",
       "      <td>Half-Life</td>\n",
       "    </tr>\n",
       "  </tbody>\n",
       "</table>\n",
       "</div>"
      ],
      "text/plain": [
       "                          Title                     Publisher\n",
       "0  Disco Elysium: The Final Cut  Disco Elysium: The Final Cut\n",
       "1                   Half-Life 2                   Half-Life 2\n",
       "2            Grand Theft Auto V            Grand Theft Auto V\n",
       "3                The Orange Box                The Orange Box\n",
       "4                     Half-Life                     Half-Life"
      ]
     },
     "execution_count": 15,
     "metadata": {},
     "output_type": "execute_result"
    }
   ],
   "source": [
    "complete_data = complete_data[['Title','Publisher']]\n",
    "complete_data.head()"
   ]
  },
  {
   "cell_type": "code",
   "execution_count": 16,
   "metadata": {},
   "outputs": [],
   "source": [
    "new_desc = []\n",
    "for pub in complete_data['Publisher']:\n",
    "    update = pub.split()\n",
    "    update = [ps.stem(word) for word in update if word.lower() not in sw]\n",
    "    new_desc.append(update)"
   ]
  },
  {
   "cell_type": "code",
   "execution_count": 17,
   "metadata": {},
   "outputs": [],
   "source": [
    "complete_data['Pub'] = new_desc"
   ]
  },
  {
   "cell_type": "code",
   "execution_count": 18,
   "metadata": {},
   "outputs": [],
   "source": [
    "complete_data['Pub'] = complete_data['Pub'].str.join(\" \")"
   ]
  },
  {
   "cell_type": "code",
   "execution_count": 19,
   "metadata": {},
   "outputs": [
    {
     "data": {
      "text/html": [
       "<div>\n",
       "<style scoped>\n",
       "    .dataframe tbody tr th:only-of-type {\n",
       "        vertical-align: middle;\n",
       "    }\n",
       "\n",
       "    .dataframe tbody tr th {\n",
       "        vertical-align: top;\n",
       "    }\n",
       "\n",
       "    .dataframe thead th {\n",
       "        text-align: right;\n",
       "    }\n",
       "</style>\n",
       "<table border=\"1\" class=\"dataframe\">\n",
       "  <thead>\n",
       "    <tr style=\"text-align: right;\">\n",
       "      <th></th>\n",
       "      <th>Title</th>\n",
       "      <th>Publisher</th>\n",
       "      <th>Pub</th>\n",
       "    </tr>\n",
       "  </thead>\n",
       "  <tbody>\n",
       "    <tr>\n",
       "      <th>0</th>\n",
       "      <td>Disco Elysium: The Final Cut</td>\n",
       "      <td>Disco Elysium: The Final Cut</td>\n",
       "      <td>disco elysium: final cut</td>\n",
       "    </tr>\n",
       "    <tr>\n",
       "      <th>1</th>\n",
       "      <td>Half-Life 2</td>\n",
       "      <td>Half-Life 2</td>\n",
       "      <td>half-lif 2</td>\n",
       "    </tr>\n",
       "    <tr>\n",
       "      <th>2</th>\n",
       "      <td>Grand Theft Auto V</td>\n",
       "      <td>Grand Theft Auto V</td>\n",
       "      <td>grand theft auto v</td>\n",
       "    </tr>\n",
       "    <tr>\n",
       "      <th>3</th>\n",
       "      <td>The Orange Box</td>\n",
       "      <td>The Orange Box</td>\n",
       "      <td>orang box</td>\n",
       "    </tr>\n",
       "    <tr>\n",
       "      <th>4</th>\n",
       "      <td>Half-Life</td>\n",
       "      <td>Half-Life</td>\n",
       "      <td>half-lif</td>\n",
       "    </tr>\n",
       "  </tbody>\n",
       "</table>\n",
       "</div>"
      ],
      "text/plain": [
       "                          Title                     Publisher  \\\n",
       "0  Disco Elysium: The Final Cut  Disco Elysium: The Final Cut   \n",
       "1                   Half-Life 2                   Half-Life 2   \n",
       "2            Grand Theft Auto V            Grand Theft Auto V   \n",
       "3                The Orange Box                The Orange Box   \n",
       "4                     Half-Life                     Half-Life   \n",
       "\n",
       "                        Pub  \n",
       "0  disco elysium: final cut  \n",
       "1                half-lif 2  \n",
       "2        grand theft auto v  \n",
       "3                 orang box  \n",
       "4                  half-lif  "
      ]
     },
     "execution_count": 19,
     "metadata": {},
     "output_type": "execute_result"
    }
   ],
   "source": [
    "complete_data.head()"
   ]
  },
  {
   "cell_type": "code",
   "execution_count": 20,
   "metadata": {},
   "outputs": [],
   "source": [
    "from sklearn.feature_extraction.text import CountVectorizer\n",
    "cv = CountVectorizer().fit_transform(complete_data['Pub'])"
   ]
  },
  {
   "cell_type": "code",
   "execution_count": 21,
   "metadata": {},
   "outputs": [],
   "source": [
    "from sklearn.metrics.pairwise import cosine_similarity\n",
    "cs = cosine_similarity(cv)"
   ]
  },
  {
   "cell_type": "code",
   "execution_count": 22,
   "metadata": {},
   "outputs": [
    {
     "data": {
      "text/plain": [
       "array([[1., 0., 0., ..., 0., 0., 0.],\n",
       "       [0., 1., 0., ..., 0., 0., 0.],\n",
       "       [0., 0., 1., ..., 0., 0., 0.],\n",
       "       ...,\n",
       "       [0., 0., 0., ..., 1., 0., 0.],\n",
       "       [0., 0., 0., ..., 0., 1., 0.],\n",
       "       [0., 0., 0., ..., 0., 0., 1.]])"
      ]
     },
     "execution_count": 22,
     "metadata": {},
     "output_type": "execute_result"
    }
   ],
   "source": [
    "cs"
   ]
  },
  {
   "cell_type": "code",
   "execution_count": 23,
   "metadata": {},
   "outputs": [
    {
     "data": {
      "text/plain": [
       "(4468, 4468)"
      ]
     },
     "execution_count": 23,
     "metadata": {},
     "output_type": "execute_result"
    }
   ],
   "source": [
    "cs.shape"
   ]
  },
  {
   "cell_type": "code",
   "execution_count": 27,
   "metadata": {},
   "outputs": [
    {
     "data": {
      "text/plain": [
       "\"Assassin's Creed II\""
      ]
     },
     "execution_count": 27,
     "metadata": {},
     "output_type": "execute_result"
    }
   ],
   "source": [
    "Title = \"Assassin's Creed II\"\n",
    "Title"
   ]
  },
  {
   "cell_type": "code",
   "execution_count": 28,
   "metadata": {},
   "outputs": [],
   "source": [
    "def recommend_game(game_name):\n",
    "    id = complete_data[complete_data.Title == game_name].index[0]\n",
    "    scores = list(enumerate(cs[id]))\n",
    "    sorted_scores = sorted(scores, key = lambda x:x[1], reverse=True)[1:16]\n",
    "\n",
    "    for item in sorted_scores:\n",
    "        print(complete_data.iloc[item[0]].Title)"
   ]
  },
  {
   "cell_type": "code",
   "execution_count": 36,
   "metadata": {},
   "outputs": [
    {
     "name": "stdout",
     "output_type": "stream",
     "text": [
      "FIFA 17\n",
      "FIFA 15\n",
      "FIFA 18\n",
      "FIFA 21\n",
      "FIFA Soccer 12\n",
      "FIFA Soccer 13\n",
      "FIFA Soccer 11\n",
      "FIFA Soccer 2003\n",
      "FIFA Soccer 06\n",
      "FIFA 07 Soccer\n",
      "FIFA Soccer 2002\n",
      "FIFA Soccer 09\n",
      "FIFA Soccer 08\n",
      "FIFA Soccer 2005\n",
      "FIFA Soccer 2004\n"
     ]
    }
   ],
   "source": [
    "recommend_game(\"FIFA 16\")"
   ]
  },
  {
   "cell_type": "code",
   "execution_count": 33,
   "metadata": {},
   "outputs": [],
   "source": [
    "import pickle"
   ]
  },
  {
   "cell_type": "code",
   "execution_count": 34,
   "metadata": {},
   "outputs": [],
   "source": [
    "pickle.dump(complete_data.to_dict(),open('PC_Games_withpub.pkl','wb'))"
   ]
  },
  {
   "cell_type": "code",
   "execution_count": 35,
   "metadata": {},
   "outputs": [],
   "source": [
    "pickle.dump(cs,open('cs1.pkl','wb'))"
   ]
  },
  {
   "cell_type": "code",
   "execution_count": null,
   "metadata": {},
   "outputs": [],
   "source": []
  }
 ],
 "metadata": {
  "interpreter": {
   "hash": "647964b6bfb890f19d69c4cbfe6e0dbcb44820bcc2b77bf21d5f0de71d92ee89"
  },
  "kernelspec": {
   "display_name": "Python 3.8.8 64-bit ('base': conda)",
   "language": "python",
   "name": "python3"
  },
  "language_info": {
   "codemirror_mode": {
    "name": "ipython",
    "version": 3
   },
   "file_extension": ".py",
   "mimetype": "text/x-python",
   "name": "python",
   "nbconvert_exporter": "python",
   "pygments_lexer": "ipython3",
   "version": "3.8.8"
  },
  "orig_nbformat": 4
 },
 "nbformat": 4,
 "nbformat_minor": 2
}
